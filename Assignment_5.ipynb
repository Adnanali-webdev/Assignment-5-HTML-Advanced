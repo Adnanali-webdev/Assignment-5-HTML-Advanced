{
  "nbformat": 4,
  "nbformat_minor": 0,
  "metadata": {
    "colab": {
      "provenance": []
    },
    "kernelspec": {
      "name": "python3",
      "display_name": "Python 3"
    },
    "language_info": {
      "name": "python"
    }
  },
  "cells": [
    {
      "cell_type": "markdown",
      "source": [
        "Assignment-5 Modern HTML"
      ],
      "metadata": {
        "id": "dS3yL0ys3UdF"
      }
    },
    {
      "cell_type": "markdown",
      "source": [
        "Q1) List out the features of HTML5.\n",
        "\n",
        "Ans)\n",
        "\n",
        "I) New elements, attributes, and behaviors; support for multimedia; better error handling.\n",
        "\n",
        "II) New tags like `<article>, <aside>, <figure>.`\n",
        "\n",
        "III) Enhanced forms with new input types.\n",
        "\n",
        "IV) Built-in audio and video support with `<audio>` and `<video>`.\n",
        "\n",
        "V) Local storage for offline use.\n",
        "\n",
        "VI) Graphics and animations with `<canvas>` and `<svg>`.\n",
        "\n",
        "\n",
        "\n",
        "Q2) What are HTML Entities? List out 5 commonly used HTML entities.\n",
        "\n",
        "Ans)\n",
        "\n",
        "1) Special codes to display reserved characters.\n",
        "\n",
        "2) Help display symbols that have special meanings in HTML.\n",
        "\n",
        "3) Ensure characters are rendered correctly.\n",
        "\n",
        "4) Prevent HTML code from breaking.\n",
        "\n",
        "5) Used to display invisible characters\n",
        "\n",
        "\n",
        "the 5 commonly used HTML entities\n",
        "\n",
        " a) `&nbsp;` or &#160; for a non-breaking space.\n",
        "\n",
        " b) `&amp;` for &\n",
        "\n",
        " c) `&lt;` for <  `&gt;` for >\n",
        "\n",
        " d) `&quot;` for \"\n",
        "\n",
        " e)`&apos;` for  '\n",
        "\n",
        "\n"
      ],
      "metadata": {
        "id": "Wcjv8x0j3bMG"
      }
    },
    {
      "cell_type": "markdown",
      "source": [
        "Q3) Define accessibility in the context of web development. Discuss why it's essential to create accessible websites and how it benefits different user groups\n",
        "\n",
        "Ans)  In web development, accessibility refers to designing and developing websites and web applications that can be used by people with a wide range of abilities and disabilities and Ensures equal access to information.\n",
        "\n",
        "Creating accessible websites is essential for several reasons. Firstly, it ensures **legal compliance** with standards like ADA and WCAG. It also supports **inclusivity and social responsibility**, allowing everyone, including users with disabilities, to access online content. Accessibility helps **expand audience reach** and **improves SEO**, making sites more discoverable. Ultimately, it **benefits all users**, including those using mobile devices or with temporary impairments."
      ],
      "metadata": {
        "id": "lPmoLvlg7Go2"
      }
    },
    {
      "cell_type": "markdown",
      "source": [
        "Q4) List any 3 ways which help us in improving the accessibility of HTML\n",
        "\n",
        "Ans) **Below are the ways for Improving Accessibility:**\n",
        "\n",
        "1) Use semantic HTML tags.\n",
        "\n",
        "2) Provide alt text for images.\n",
        "\n",
        "3) Ensure keyboard navigability.\n",
        "\n",
        "4) Use ARIA (Accessible Rich Internet Applications) landmarks.\n",
        "\n",
        "5) Test with screen readers and other assistive technologies."
      ],
      "metadata": {
        "id": "I9cRwRSh-v3-"
      }
    },
    {
      "cell_type": "code",
      "execution_count": null,
      "metadata": {
        "id": "SUWhU4pb3EyL"
      },
      "outputs": [],
      "source": []
    },
    {
      "cell_type": "markdown",
      "source": [
        " Q5) Create a web page that highlights the features of HTML5. Use appropriate semantic tags to structure the content and showcase at least three key features of HTML5 with explanations.\n",
        "\n",
        " Ans)"
      ],
      "metadata": {
        "id": "R8H-qOYsPxBr"
      }
    },
    {
      "cell_type": "code",
      "source": [
        "from IPython.display import display, HTML\n",
        "\n",
        "html_code = \"\"\"\n",
        "\n",
        "<!DOCTYPE html>\n",
        "<html lang=\"en\">\n",
        "<head>\n",
        "    <meta charset=\"UTF-8\">\n",
        "    <meta name=\"viewport\" content=\"width=device-width, initial-scale=1.0\">\n",
        "    <title>Document</title>\n",
        "</head>\n",
        "<body>\n",
        "    <header>\n",
        "        <h1> the features of HTML5</h1>\n",
        "        <p>&nbsp; &nbsp; &nbsp; &nbsp; &nbsp; &nbsp;Use appropriate semantic tags to structure the content and showcase at least three key features of HTML5 with explanations\n",
        "\n",
        "        </p>\n",
        "    </header>\n",
        "<main>\n",
        "    <section>\n",
        "\n",
        "                 <article>\n",
        "                    <h2>1. Semantic Elements</h2>\n",
        "      <p>HTML5 introduces new semantic tags like <code>&lt;article&gt;</code>, <code>&lt;section&gt;</code>, <code>&lt;nav&gt;</code>, and <code>&lt;footer&gt;</code> that make the structure of web pages clearer and more meaningful for both developers and assistive technologies.\n",
        "    </p>\n",
        "                 </article>\n",
        "            <aside>\n",
        "\n",
        "                    <h2>2. Audio and Video Support</h2>\n",
        "                    <p>With HTML5, embedding media is easier and more standardized. The <code>&lt;audio&gt;</code> and <code>&lt;video&gt;</code> elements allow you to add multimedia content without relying on third-party plugins like Flash.</p>\n",
        "\n",
        "            </aside>\n",
        "            <audio src=\"/audio/better-day-song.mp3\"   controls loop  preload=\"auto\"></audio>\n",
        "\n",
        "            <audio src=\"/audio/lion-roar.wav\" controls  preload=\"metadata\">\n",
        "           </audio>\n",
        "\n",
        "           <video src=\"/video/Racing Bicyclists.mp4\" height=\"250px\"  controls loop autoplay preload=\"metadata\"></video>\n",
        "           <br>\n",
        "           <video src=\"/video/video1.mp4\" height=\"300px\" width=\"500px\" controls muted poster=\"/images/adventure2.jpeg\"></video>\n",
        "\n",
        "    </section>\n",
        "    <section>\n",
        "        <h2>Graphics and animations with <code>&lt;canvas&gt;</code> and <code>&lt;svg&gt;</code>.</h2>\n",
        "        <p>The <code>&lt;canvas&gt;</code> element enables dynamic, scriptable rendering of 2D shapes and images. It's great for games, graphs, and interactive visual content, all within the browser.\n",
        "        </p>\n",
        "        <canvas id=\"myCanvas\" width=\"600\" height=\"200\" style=\"border:1px solid #000000; background-color: red;\">\n",
        "            Your browser does not support the HTML canvas tag.\n",
        "            </canvas>\n",
        "            <p> SVG stands for Scalable Vector Graphics<br>\n",
        "                SVG is used to define vector-based graphics for the Web<br>\n",
        "                SVG defines graphics in XML format<br>\n",
        "                Each element and attribute in SVG files can be animated<br>\n",
        "                SVG integrates with other standards, such as CSS, DOM, XSL and JavaScript\n",
        "            </p>\n",
        "\n",
        "    <svg xmlns=\"http://www.w3.org/2000/svg\" width=\"24\" height=\"24\" viewBox=\"0 0 24 24\" style=\"fill: rgba(0, 0, 0, 1);transform: ;msFilter:;\"><path d=\"m20.43 5.76-8-3.56a1 1 0 0 0-.82 0l-8 3.56a1 1 0 0 0-.59.9c0 2.37.44 10.8 8.51 15.11a1 1 0 0 0 1 0c8-4.3 8.58-12.71 8.57-15.1a1 1 0 0 0-.67-.91zm-4.43 7h-3v3h-2v-3H8v-2h3v-3h2v3h3z\">\n",
        "\n",
        "                </path>\n",
        "            </svg>\n",
        "\n",
        "    </section>\n",
        "    </main>\n",
        "    <footer>\n",
        "        <p>&copy; 2025 HTML5 Feature Showcase</p>\n",
        "    </footer>\n",
        "</body>\n",
        "</html>\n",
        "\"\"\"\n",
        "display(HTML(html_code))"
      ],
      "metadata": {
        "colab": {
          "resources": {
            "http://localhost:8080/images/adventure2.jpeg": {
              "data": "",
              "ok": false,
              "headers": [
                [
                  "content-length",
                  "0"
                ]
              ],
              "status": 404,
              "status_text": ""
            },
            "http://localhost:8080/video/Racing%20Bicyclists.mp4": {
              "data": "",
              "ok": false,
              "headers": [
                [
                  "content-length",
                  "0"
                ]
              ],
              "status": 404,
              "status_text": ""
            },
            "http://localhost:8080/audio/better-day-song.mp3": {
              "data": "",
              "ok": false,
              "headers": [
                [
                  "content-length",
                  "0"
                ]
              ],
              "status": 404,
              "status_text": ""
            },
            "http://localhost:8080/video/video1.mp4": {
              "data": "",
              "ok": false,
              "headers": [
                [
                  "content-length",
                  "0"
                ]
              ],
              "status": 404,
              "status_text": ""
            },
            "http://localhost:8080/audio/lion-roar.wav": {
              "data": "",
              "ok": false,
              "headers": [
                [
                  "content-length",
                  "0"
                ]
              ],
              "status": 404,
              "status_text": ""
            }
          },
          "base_uri": "https://localhost:8080/",
          "height": 1000
        },
        "id": "quljmfYzPmEu",
        "outputId": "67fcc27c-6cde-45e8-af25-7df1e5ae7a63"
      },
      "execution_count": null,
      "outputs": [
        {
          "output_type": "display_data",
          "data": {
            "text/plain": [
              "<IPython.core.display.HTML object>"
            ],
            "text/html": [
              "\n",
              "\n",
              "<!DOCTYPE html>\n",
              "<html lang=\"en\">\n",
              "<head>\n",
              "    <meta charset=\"UTF-8\">\n",
              "    <meta name=\"viewport\" content=\"width=device-width, initial-scale=1.0\">\n",
              "    <title>Document</title>\n",
              "</head>\n",
              "<body>\n",
              "    <header>\n",
              "        <h1> the features of HTML5</h1>\n",
              "        <p>&nbsp; &nbsp; &nbsp; &nbsp; &nbsp; &nbsp;Use appropriate semantic tags to structure the content and showcase at least three key features of HTML5 with explanations\n",
              "\n",
              "        </p>\n",
              "    </header>\n",
              "<main>\n",
              "    <section>\n",
              "        \n",
              "                 <article>\n",
              "                    <h2>1. Semantic Elements</h2>\n",
              "      <p>HTML5 introduces new semantic tags like <code>&lt;article&gt;</code>, <code>&lt;section&gt;</code>, <code>&lt;nav&gt;</code>, and <code>&lt;footer&gt;</code> that make the structure of web pages clearer and more meaningful for both developers and assistive technologies.\n",
              "    </p>\n",
              "                 </article>\n",
              "            <aside>\n",
              "            \n",
              "                    <h2>2. Audio and Video Support</h2>\n",
              "                    <p>With HTML5, embedding media is easier and more standardized. The <code>&lt;audio&gt;</code> and <code>&lt;video&gt;</code> elements allow you to add multimedia content without relying on third-party plugins like Flash.</p>\n",
              "            \n",
              "            </aside>\n",
              "            <audio src=\"/audio/better-day-song.mp3\"   controls loop  preload=\"auto\"></audio>\n",
              "            \n",
              "            <audio src=\"/audio/lion-roar.wav\" controls  preload=\"metadata\">\n",
              "           </audio> \n",
              "            \n",
              "           <video src=\"/video/Racing Bicyclists.mp4\" height=\"250px\"  controls loop autoplay preload=\"metadata\"></video>\n",
              "           <br>\n",
              "           <video src=\"/video/video1.mp4\" height=\"300px\" width=\"500px\" controls muted poster=\"/images/adventure2.jpeg\"></video>\n",
              "        \n",
              "    </section>\n",
              "    <section>\n",
              "        <h2>Graphics and animations with <code>&lt;canvas&gt;</code> and <code>&lt;svg&gt;</code>.</h2>\n",
              "        <p>The <code>&lt;canvas&gt;</code> element enables dynamic, scriptable rendering of 2D shapes and images. It's great for games, graphs, and interactive visual content, all within the browser.\n",
              "        </p>\n",
              "        <canvas id=\"myCanvas\" width=\"600\" height=\"200\" style=\"border:1px solid #000000; background-color: red;\">\n",
              "            Your browser does not support the HTML canvas tag.\n",
              "            </canvas>\n",
              "            <p> SVG stands for Scalable Vector Graphics<br>\n",
              "                SVG is used to define vector-based graphics for the Web<br>\n",
              "                SVG defines graphics in XML format<br>\n",
              "                Each element and attribute in SVG files can be animated<br>\n",
              "                SVG integrates with other standards, such as CSS, DOM, XSL and JavaScript\n",
              "            </p>\n",
              "            \n",
              "    <svg xmlns=\"http://www.w3.org/2000/svg\" width=\"24\" height=\"24\" viewBox=\"0 0 24 24\" style=\"fill: rgba(0, 0, 0, 1);transform: ;msFilter:;\"><path d=\"m20.43 5.76-8-3.56a1 1 0 0 0-.82 0l-8 3.56a1 1 0 0 0-.59.9c0 2.37.44 10.8 8.51 15.11a1 1 0 0 0 1 0c8-4.3 8.58-12.71 8.57-15.1a1 1 0 0 0-.67-.91zm-4.43 7h-3v3h-2v-3H8v-2h3v-3h2v3h3z\">\n",
              "\n",
              "                </path>\n",
              "            </svg>\n",
              "            \n",
              "    </section>\n",
              "    </main>\n",
              "    <footer>\n",
              "        <p>&copy; 2025 HTML5 Feature Showcase</p>\n",
              "    </footer>\n",
              "</body>\n",
              "</html>\n"
            ]
          },
          "metadata": {}
        }
      ]
    },
    {
      "cell_type": "markdown",
      "source": [
        "Q6) Create a simple web page which has a table. The table must have 2 columns HTML and HTML5. The table should include a minimum of three rows describing the differences between HTML and HTML5."
      ],
      "metadata": {
        "id": "8NgqYG5IQyu0"
      }
    },
    {
      "cell_type": "code",
      "source": [
        "from IPython.display import display, HTML\n",
        "\n",
        "html_code = \"\"\"\n",
        "<!DOCTYPE html>\n",
        "<html lang=\"en\">\n",
        "<head>\n",
        "    <meta charset=\"UTF-8\">\n",
        "    <meta name=\"viewport\" content=\"width=device-width, initial-scale=1.0\">\n",
        "    <title>HTML And HTML5</title>\n",
        "</head>\n",
        "<body>\n",
        "    <table border=\"1\" cellspacing=\"3\" cellpadding=\"5\">\n",
        "    <caption>Difference Between HTML And HTML-5</caption>\n",
        "    <thead>\n",
        "        <tr>\n",
        "            <th>HTML</th>\n",
        "            <th>HTML-5</th>\n",
        "        </tr>\n",
        "    </thead>\n",
        "    <tbody>\n",
        "        <tr style=\"text-align: center;\"  >\n",
        "            <td colspan=\"2\">Doctype Declaration:</td>\n",
        "\n",
        "        </tr>\n",
        "        <tr>\n",
        "            <td>HTML: Requires a long and complex doctype declaration (e.g., <!DOCTYPE HTML PUBLIC \"-//W3C//DTD HTML 4.01//EN\"...>).</td>\n",
        "            <td>HTML5: Uses a simplified doctype — <!DOCTYPE html>.</td>\n",
        "        </tr>\n",
        "        <tr style=\"text-align: center;\">\n",
        "            <td colspan=\"2\">Multimedia Support:</td>\n",
        "\n",
        "        </tr>\n",
        "        <tr>\n",
        "            <td>HTML: Does not support native embedding of audio or video; plugins like Flash were needed.</td>\n",
        "            <td>Introduces <code>&lt;audio&gt;</code> and <code>&lt;video&gt;</code> tags to embed media directly.</td>\n",
        "        </tr>\n",
        "        <tr style=\"text-align: center;\">\n",
        "            <td colspan=\"2\">New Semantic Elements:</td>\n",
        "\n",
        "        </tr>\n",
        "        <tr>\n",
        "            <td>HTML: Relies on generic tags like <div> and <span> for layout.</td>\n",
        "            <td>HTML5: Introduces semantic tags like <code>&lt;header&gt;</code>, <code>&lt;footer&gt;</code>,\n",
        "                <code>&lt;nav&gt;</code>,<code>&lt;article&gt;</code>, and <code>&lt;section&gt; </code> to better define content structure.</td>\n",
        "        </tr>\n",
        "    </tbody>\n",
        "    </table>\n",
        "\n",
        "</body>\n",
        "</html>\n",
        "\"\"\"\n",
        "display(HTML(html_code))\n"
      ],
      "metadata": {
        "colab": {
          "base_uri": "https://localhost:8080/",
          "height": 301
        },
        "id": "kNkXYVIzW8TA",
        "outputId": "34d9e9de-bceb-47d1-dc4b-3514945c46f0"
      },
      "execution_count": null,
      "outputs": [
        {
          "output_type": "display_data",
          "data": {
            "text/plain": [
              "<IPython.core.display.HTML object>"
            ],
            "text/html": [
              "\n",
              "<!DOCTYPE html>\n",
              "<html lang=\"en\">\n",
              "<head>\n",
              "    <meta charset=\"UTF-8\">\n",
              "    <meta name=\"viewport\" content=\"width=device-width, initial-scale=1.0\">\n",
              "    <title>HTML And HTML5</title>\n",
              "</head>\n",
              "<body>\n",
              "    <table border=\"1\" cellspacing=\"3\" cellpadding=\"5\">\n",
              "    <caption>Difference Between HTML And HTML-5</caption>\n",
              "    <thead>\n",
              "        <tr>\n",
              "            <th>HTML</th>\n",
              "            <th>HTML-5</th>\n",
              "        </tr>\n",
              "    </thead>\n",
              "    <tbody>\n",
              "        <tr style=\"text-align: center;\"  >\n",
              "            <td colspan=\"2\">Doctype Declaration:</td>\n",
              "\n",
              "        </tr>\n",
              "        <tr>\n",
              "            <td>HTML: Requires a long and complex doctype declaration (e.g., <!DOCTYPE HTML PUBLIC \"-//W3C//DTD HTML 4.01//EN\"...>).</td>\n",
              "            <td>HTML5: Uses a simplified doctype — <!DOCTYPE html>.</td>\n",
              "        </tr>\n",
              "        <tr style=\"text-align: center;\">\n",
              "            <td colspan=\"2\">Multimedia Support:</td>\n",
              "\n",
              "        </tr>\n",
              "        <tr>\n",
              "            <td>HTML: Does not support native embedding of audio or video; plugins like Flash were needed.</td>\n",
              "            <td>Introduces <code>&lt;audio&gt;</code> and <code>&lt;video&gt;</code> tags to embed media directly.</td>\n",
              "        </tr>\n",
              "        <tr style=\"text-align: center;\">\n",
              "            <td colspan=\"2\">New Semantic Elements:</td>\n",
              "\n",
              "        </tr>\n",
              "        <tr>\n",
              "            <td>HTML: Relies on generic tags like <div> and <span> for layout.</td>\n",
              "            <td>HTML5: Introduces semantic tags like <code>&lt;header&gt;</code>, <code>&lt;footer&gt;</code>,\n",
              "                <code>&lt;nav&gt;</code>,<code>&lt;article&gt;</code>, and <code>&lt;section&gt; </code> to better define content structure.</td>\n",
              "        </tr>\n",
              "    </tbody>\n",
              "    </table>\n",
              "    \n",
              "</body>\n",
              "</html>\n"
            ]
          },
          "metadata": {}
        }
      ]
    }
  ]
}